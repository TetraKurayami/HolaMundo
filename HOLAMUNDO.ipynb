{
  "nbformat": 4,
  "nbformat_minor": 0,
  "metadata": {
    "colab": {
      "provenance": [],
      "authorship_tag": "ABX9TyOXuBqf3ETrrXZCINMKB4y3",
      "include_colab_link": true
    },
    "kernelspec": {
      "name": "python3",
      "display_name": "Python 3"
    },
    "language_info": {
      "name": "python"
    }
  },
  "cells": [
    {
      "cell_type": "markdown",
      "metadata": {
        "id": "view-in-github",
        "colab_type": "text"
      },
      "source": [
        "<a href=\"https://colab.research.google.com/github/TetraKurayami/HolaMundo/blob/main/HOLAMUNDO.ipynb\" target=\"_parent\"><img src=\"https://colab.research.google.com/assets/colab-badge.svg\" alt=\"Open In Colab\"/></a>"
      ]
    },
    {
      "cell_type": "code",
      "execution_count": null,
      "metadata": {
        "colab": {
          "base_uri": "https://localhost:8080/"
        },
        "id": "kpKPCGr8EoYm",
        "outputId": "edfe94a9-3f09-4e8f-bc7a-a510227574ba"
      },
      "outputs": [
        {
          "output_type": "stream",
          "name": "stdout",
          "text": [
            "Hola Mundo!\n"
          ]
        }
      ],
      "source": [
        "print(\"Hola Mundo!\")"
      ]
    },
    {
      "cell_type": "code",
      "source": [
        "for x in range (1,10):\n",
        "    print(\"Hola Mundo!\")"
      ],
      "metadata": {
        "colab": {
          "base_uri": "https://localhost:8080/"
        },
        "id": "JtwWuT72E3jE",
        "outputId": "e5a47ed3-fdd9-4c7f-e391-42ae4f7d471c"
      },
      "execution_count": null,
      "outputs": [
        {
          "output_type": "stream",
          "name": "stdout",
          "text": [
            "Hola Mundo!\n",
            "Hola Mundo!\n",
            "Hola Mundo!\n",
            "Hola Mundo!\n",
            "Hola Mundo!\n",
            "Hola Mundo!\n",
            "Hola Mundo!\n",
            "Hola Mundo!\n",
            "Hola Mundo!\n"
          ]
        }
      ]
    },
    {
      "cell_type": "code",
      "source": [],
      "metadata": {
        "id": "K2LAY2sVgEXl"
      },
      "execution_count": null,
      "outputs": []
    },
    {
      "cell_type": "code",
      "source": [
        "x=int(input(\"escribe un numero: \"))\n",
        "for z in range (0,x):\n",
        "    print(\"Hola Mundo!\")"
      ],
      "metadata": {
        "colab": {
          "base_uri": "https://localhost:8080/"
        },
        "id": "ADYRWvwoFZ0A",
        "outputId": "ca18043c-c5ae-4358-9bee-0db66ca8b48c"
      },
      "execution_count": null,
      "outputs": [
        {
          "output_type": "stream",
          "name": "stdout",
          "text": [
            "escribe un numero: 10\n",
            "Hola Mundo!\n",
            "Hola Mundo!\n",
            "Hola Mundo!\n",
            "Hola Mundo!\n",
            "Hola Mundo!\n",
            "Hola Mundo!\n",
            "Hola Mundo!\n",
            "Hola Mundo!\n",
            "Hola Mundo!\n",
            "Hola Mundo!\n"
          ]
        }
      ]
    },
    {
      "cell_type": "markdown",
      "source": [],
      "metadata": {
        "id": "dJXoTEG7gx2W"
      }
    }
  ]
}